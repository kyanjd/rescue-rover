{
 "cells": [
  {
   "cell_type": "code",
   "execution_count": 1,
   "metadata": {},
   "outputs": [],
   "source": [
    "import numpy as np\n",
    "import pandas as pd\n",
    "import matplotlib.pyplot as plt"
   ]
  },
  {
   "cell_type": "code",
   "execution_count": 2,
   "metadata": {},
   "outputs": [],
   "source": [
    "col = [\"Red\", \"Green\", \"Blue\", \"Clear\"]\n",
    "# colours = np.array(['ambient', 'black', 'Val', 'Sat', 'orange', 'pale_blue', 'pink', 'red', 'white', 'yellow'])\n",
    "colours = np.array(['red'])"
   ]
  },
  {
   "cell_type": "code",
   "execution_count": 4,
   "metadata": {},
   "outputs": [],
   "source": [
    "def txt_to_csv():\n",
    "    for x in range(len(colours)):\n",
    "        print(colours[x])\n",
    "        card = np.genfromtxt(f\"{colours[x]}2.txt\", dtype=str, encoding=None, delimiter=\",\")\n",
    "        card = card[:-1]\n",
    "        card = card.astype(float)\n",
    "        df = pd.DataFrame(card)\n",
    "        df.columns = col\n",
    "        df.to_csv(f\"{colours[x]}2.csv\")\n",
    "# txt_to_csv()"
   ]
  },
  {
   "cell_type": "code",
   "execution_count": 5,
   "metadata": {},
   "outputs": [],
   "source": [
    "def rgb_to_hsv(r, g, b): \n",
    "\n",
    "\t# R, G, B values are divided by 255 \n",
    "\t# to change the range from 0..255 to 0..1: \n",
    "\tr, g, b = r / 12100, g / 8200, b / 4300\n",
    "\n",
    "\t# h, s, v = hue, saturation, value \n",
    "\tcmax = max(r, g, b) # maximum of r, g, b \n",
    "\tcmin = min(r, g, b) # minimum of r, g, b \n",
    "\tdiff = cmax-cmin\t # diff of cmax and cmin. \n",
    "\n",
    "\t# if cmax and cmax are equal then h = 0 \n",
    "\tif cmax == cmin: \n",
    "\t\th = 0\n",
    "\t\n",
    "\t# if cmax equal r then compute h \n",
    "\telif cmax == r: \n",
    "\t\th = (60 * ((g - b) / diff) + 360) % 360\n",
    "\n",
    "\t# if cmax equal g then compute h \n",
    "\telif cmax == g: \n",
    "\t\th = (60 * ((b - r) / diff) + 120) % 360\n",
    "\n",
    "\t# if cmax equal b then compute h \n",
    "\telif cmax == b: \n",
    "\t\th = (60 * ((r - g) / diff) + 240) % 360\n",
    "\n",
    "\t# if cmax equal zero \n",
    "\tif cmax == 0: \n",
    "\t\ts = 0\n",
    "\telse: \n",
    "\t\ts = (diff / cmax) * 100\n",
    "\n",
    "\t# compute v \n",
    "\tv = cmax * 100\n",
    "\treturn h, s, v \n"
   ]
  },
  {
   "cell_type": "code",
   "execution_count": 10,
   "metadata": {},
   "outputs": [],
   "source": [
    "def hsv(colour_to_hsv):\n",
    "    h_all = np.empty((len(colour_to_hsv)))\n",
    "    s_all = np.empty((len(colour_to_hsv)))\n",
    "    v_all = np.empty((len(colour_to_hsv)))\n",
    "    for i in range(len(colour_to_hsv)):\n",
    "        h, s, v = rgb_to_hsv(colour_to_hsv['Red'][i], colour_to_hsv['Green'][i], colour_to_hsv['Blue'][i])\n",
    "        h_all[i] = h\n",
    "        s_all[i] = s\n",
    "        v_all[i] = v\n",
    "    return h_all, s_all, v_all"
   ]
  },
  {
   "cell_type": "code",
   "execution_count": null,
   "metadata": {},
   "outputs": [],
   "source": [
    "blue = pd.read_csv('blue3.txt', sep=',')\n",
    "blue.columns = col\n",
    "h, s, v = hsv(blue)\n",
    "blue[\"Hue\"] = h\n",
    "blue[\"Sat\"] = s\n",
    "blue[\"Val\"] = v\n",
    "blue.describe()"
   ]
  },
  {
   "cell_type": "code",
   "execution_count": null,
   "metadata": {},
   "outputs": [],
   "source": [
    "ambient = pd.read_csv('ambient3.txt', sep=',')\n",
    "ambient.columns = col\n",
    "h, s, v = hsv(ambient)\n",
    "ambient[\"Hue\"] = h\n",
    "ambient[\"Sat\"] = s\n",
    "ambient[\"Val\"] = v\n",
    "ambient.describe()"
   ]
  },
  {
   "cell_type": "code",
   "execution_count": null,
   "metadata": {},
   "outputs": [],
   "source": [
    "black = pd.read_csv('black3.txt', sep=',')\n",
    "black.columns = col\n",
    "h, s, v = hsv(black)\n",
    "black[\"Hue\"] = h\n",
    "black[\"Sat\"] = s\n",
    "black[\"Val\"] = v\n",
    "black.describe()"
   ]
  },
  {
   "cell_type": "code",
   "execution_count": null,
   "metadata": {},
   "outputs": [],
   "source": [
    "green = pd.read_csv('green3.txt', sep=',')\n",
    "green.columns = col\n",
    "h, s, v = hsv(green)\n",
    "green[\"Hue\"] = h\n",
    "green[\"Sat\"] = s\n",
    "green[\"Val\"] = v\n",
    "green.describe()"
   ]
  },
  {
   "cell_type": "code",
   "execution_count": null,
   "metadata": {},
   "outputs": [],
   "source": [
    "orange = pd.read_csv('orange3.txt', sep=',')\n",
    "orange.columns = col\n",
    "h, s, v = hsv(orange)\n",
    "orange[\"Hue\"] = h\n",
    "orange[\"Sat\"] = s\n",
    "orange[\"Val\"] = v\n",
    "orange.describe()"
   ]
  },
  {
   "cell_type": "code",
   "execution_count": null,
   "metadata": {},
   "outputs": [],
   "source": [
    "pale_blue = pd.read_csv('pale_blue3.txt', sep=',')\n",
    "pale_blue.columns = col\n",
    "h, s, v = hsv(pale_blue)\n",
    "pale_blue[\"Hue\"] = h\n",
    "pale_blue[\"Sat\"] = s\n",
    "pale_blue[\"Val\"] = v\n",
    "pale_blue.describe()"
   ]
  },
  {
   "cell_type": "code",
   "execution_count": null,
   "metadata": {},
   "outputs": [],
   "source": [
    "pink = pd.read_csv('pink3.txt', sep=',')\n",
    "pink.columns = col\n",
    "h, s, v = hsv(pink)\n",
    "pink[\"Hue\"] = h\n",
    "pink[\"Sat\"] = s\n",
    "pink[\"Val\"] = v\n",
    "pink.describe()"
   ]
  },
  {
   "cell_type": "code",
   "execution_count": null,
   "metadata": {},
   "outputs": [],
   "source": [
    "red = pd.read_csv('red3.txt', sep=',')\n",
    "red.columns = col\n",
    "h, s, v = hsv(red)\n",
    "red[\"Hue\"] = h\n",
    "red[\"Sat\"] = s\n",
    "red[\"Val\"] = v\n",
    "red.describe()"
   ]
  },
  {
   "cell_type": "code",
   "execution_count": null,
   "metadata": {},
   "outputs": [],
   "source": [
    "white = pd.read_csv('white3.txt', sep=',')\n",
    "white.columns = col\n",
    "h, s, v = hsv(white)\n",
    "white[\"Hue\"] = h\n",
    "white[\"Sat\"] = s\n",
    "white[\"Val\"] = v\n",
    "white.describe()"
   ]
  },
  {
   "cell_type": "code",
   "execution_count": null,
   "metadata": {},
   "outputs": [],
   "source": [
    "yellow = pd.read_csv('yellow3.txt', sep=',')\n",
    "yellow.columns = col\n",
    "h, s, v = hsv(yellow)\n",
    "yellow[\"Hue\"] = h\n",
    "yellow[\"Sat\"] = s\n",
    "yellow[\"Val\"] = v\n",
    "yellow.describe()"
   ]
  },
  {
   "cell_type": "code",
   "execution_count": null,
   "metadata": {},
   "outputs": [],
   "source": [
    "colours = np.array(['ambient', 'black', 'blue', 'green', 'orange', 'pale_blue', 'pink', 'white', 'yellow'])\n",
    "\n",
    "fig, ax = plt.subplots(nrows=2, ncols=2, figsize=(15,15))\n",
    "ax[0, 0].plot(np.arange(0, len(ambient), 1), ambient['Red'], c='grey', label='Ambient')\n",
    "ax[0, 0].plot(np.arange(0, len(black), 1), black['Red'], c='k', label='Black')\n",
    "ax[0, 0].plot(np.arange(0, len(blue), 1), blue['Red'], c='blue', label='Blue')\n",
    "ax[0, 0].plot(np.arange(0, len(green), 1), green['Red'], c='green', label='Green')\n",
    "ax[0, 0].plot(np.arange(0, len(orange), 1), orange['Red'], c='orange', label='Orange')\n",
    "ax[0, 0].plot(np.arange(0, len(pale_blue), 1), pale_blue['Red'], c='aqua', label='Light Blue')\n",
    "ax[0, 0].plot(np.arange(0, len(pink), 1), pink['Red'], c='pink', label='Pink')\n",
    "ax[0, 0].plot(np.arange(0, len(red), 1), red['Red'], c='red', label='Red')\n",
    "ax[0, 0].plot(np.arange(0, len(white), 1), white['Red'], c='purple', label='White')\n",
    "ax[0, 0].plot(np.arange(0, len(yellow), 1), yellow['Red'], c='yellow', label='Yellow')\n",
    "ax[0, 0].set_title(\"Red\")\n",
    "ax[0, 0].set_ylabel(\"Colour Intensity\")\n",
    "ax[0, 0].set_xlabel(\"Data point\")\n",
    "ax[0, 0].legend(loc=\"upper right\")\n",
    "\n",
    "ax[0, 1].plot(np.arange(0, len(ambient), 1), ambient['Sat'], c='grey', label='Ambient')\n",
    "ax[0, 1].plot(np.arange(0, len(black), 1), black['Green'], c='k', label='Black')\n",
    "ax[0, 1].plot(np.arange(0, len(blue), 1), blue['Green'], c='blue', label='Blue')\n",
    "ax[0, 1].plot(np.arange(0, len(green), 1), green['Green'], c='green', label='Green')\n",
    "ax[0, 1].plot(np.arange(0, len(orange), 1), orange['Green'], c='orange', label='Orange')\n",
    "ax[0, 1].plot(np.arange(0, len(pale_blue), 1), pale_blue['Green'], c='aqua', label='Light Blue')\n",
    "ax[0, 1].plot(np.arange(0, len(pink), 1), pink['Green'], c='pink', label='Pink')\n",
    "ax[0, 1].plot(np.arange(0, len(red), 1), red['Green'], c='red', label='Red')\n",
    "ax[0, 1].plot(np.arange(0, len(white), 1), white['Green'], c='purple', label='White')\n",
    "ax[0, 1].plot(np.arange(0, len(yellow), 1), yellow['Green'], c='yellow', label='Yellow')\n",
    "ax[0, 1].set_title(\"GREEN\")\n",
    "ax[0, 1].set_ylabel(\"Colour Intensity\")\n",
    "ax[0, 1].set_xlabel(\"Data point\")\n",
    "ax[0, 1].legend(loc=\"upper right\")\n",
    "\n",
    "\n",
    "ax[1, 0].plot(np.arange(0, len(ambient), 1), ambient['Blue'], c='grey', label='Ambient')\n",
    "ax[1, 0].plot(np.arange(0, len(black), 1), black['Blue'], c='k', label='Black')\n",
    "ax[1, 0].plot(np.arange(0, len(blue), 1), blue['Blue'], c='blue', label='Blue')\n",
    "ax[1, 0].plot(np.arange(0, len(green), 1), green['Blue'], c='green', label='Green')\n",
    "ax[1, 0].plot(np.arange(0, len(orange), 1), orange['Blue'], c='orange', label='Orange')\n",
    "ax[1, 0].plot(np.arange(0, len(pale_blue), 1), pale_blue['Blue'], c='aqua', label='Light Blue')\n",
    "ax[1, 0].plot(np.arange(0, len(pink), 1), pink['Blue'], c='pink', label='Pink')\n",
    "ax[1, 0].plot(np.arange(0, len(red), 1), red['Blue'], c='red', label='Red')\n",
    "ax[1, 0].plot(np.arange(0, len(white), 1), white['Blue'], c='purple', label='White')\n",
    "ax[1, 0].plot(np.arange(0, len(yellow), 1), yellow['Blue'], c='yellow', label='Yellow')\n",
    "ax[1, 0].set_title(\"BLUE\")\n",
    "ax[1, 0].set_ylabel(\"Colour Intensity\")\n",
    "ax[1, 0].set_xlabel(\"Data point\")\n",
    "ax[1, 0].legend(loc=\"upper right\")\n",
    "\n",
    "\n",
    "ax[1, 1].plot(np.arange(0, len(ambient), 1), ambient['Clear'], c='grey', label='Ambient')\n",
    "ax[1, 1].plot(np.arange(0, len(black), 1), black['Clear'], c='k', label='Black')\n",
    "ax[1, 1].plot(np.arange(0, len(blue), 1), blue['Clear'], c='blue', label='Blue')\n",
    "ax[1, 1].plot(np.arange(0, len(green), 1), green['Clear'], c='green', label='Green')\n",
    "ax[1, 1].plot(np.arange(0, len(orange), 1), orange['Clear'], c='orange', label='Orange')\n",
    "ax[1, 1].plot(np.arange(0, len(pale_blue), 1), pale_blue['Clear'], c='aqua', label ='Light Blue')\n",
    "ax[1, 1].plot(np.arange(0, len(pink), 1), pink['Clear'], c='pink', label='Pink')\n",
    "ax[1, 1].plot(np.arange(0, len(red), 1), red['Clear'], c='red', label='Red')\n",
    "ax[1, 1].plot(np.arange(0, len(white), 1), white['Clear'], c='purple', label='White')\n",
    "ax[1, 1].plot(np.arange(0, len(yellow), 1), yellow['Clear'], c='yellow', label='Yellow')\n",
    "ax[1, 1].set_title(\"CLEAR\")\n",
    "ax[1, 1].set_ylabel(\"Colour Intensity\")\n",
    "ax[1, 1].set_xlabel(\"Data point\")\n",
    "ax[1, 1].legend(loc=\"upper right\")\n"
   ]
  },
  {
   "cell_type": "code",
   "execution_count": null,
   "metadata": {},
   "outputs": [],
   "source": [
    "fig, ax = plt.subplots(nrows=1, ncols=3, figsize=(45,12))\n",
    "ax[0].plot(np.arange(0, len(ambient), 1), ambient['Hue'], c='grey', label='Ambient')\n",
    "ax[0].plot(np.arange(0, len(black), 1), black['Hue'], c='k', label='Black')\n",
    "ax[0].plot(np.arange(0, len(blue), 1), blue['Hue'], c='blue', label='Blue')\n",
    "ax[0].plot(np.arange(0, len(green), 1), green['Hue'], c='green', label='Green')\n",
    "ax[0].plot(np.arange(0, len(orange), 1), orange['Hue'], c='orange', label='Orange')\n",
    "ax[0].plot(np.arange(0, len(pale_blue), 1), pale_blue['Hue'], c='aqua', label='Light Blue')\n",
    "ax[0].plot(np.arange(0, len(pink), 1), pink['Hue'], c='pink', label='Pink')\n",
    "ax[0].plot(np.arange(0, len(red), 1), red['Hue'], c='red', label='Red')\n",
    "ax[0].plot(np.arange(0, len(white), 1), white['Hue'], c='purple', label='White')\n",
    "ax[0].plot(np.arange(0, len(yellow), 1), yellow['Hue'], c='yellow', label='Yellow')\n",
    "ax[0].set_title(\"Hue\")\n",
    "ax[0].set_ylabel(\"Hue (degrees)\")\n",
    "ax[0].set_xlabel(\"Data point\")\n",
    "ax[0].legend(loc=\"lower right\")\n",
    "\n",
    "\n",
    "ax[1].plot(np.arange(0, len(ambient), 1), ambient['Sat'], c='grey', label='Ambient')\n",
    "ax[1].plot(np.arange(0, len(black), 1), black['Sat'], c='k', label='Black')\n",
    "ax[1].plot(np.arange(0, len(blue), 1), blue['Sat'], c='blue', label='Blue')\n",
    "ax[1].plot(np.arange(0, len(green), 1), green['Sat'], c='green', label='Green')\n",
    "ax[1].plot(np.arange(0, len(orange), 1), orange['Sat'], c='orange', label='Orange')\n",
    "ax[1].plot(np.arange(0, len(pale_blue), 1), pale_blue['Sat'], c='aqua', label='Light Blue')\n",
    "ax[1].plot(np.arange(0, len(pink), 1), pink['Sat'], c='pink', label='Pink')\n",
    "ax[1].plot(np.arange(0, len(red), 1), red['Sat'], c='red', label='Red')\n",
    "ax[1].plot(np.arange(0, len(white), 1), white['Sat'], c='purple', label='White')\n",
    "ax[1].plot(np.arange(0, len(yellow), 1), yellow['Sat'], c='yellow', label='Yellow')\n",
    "ax[1].set_title(\"Sat\")\n",
    "ax[1].set_ylabel(\"Saturation Percentage (%)\")\n",
    "ax[1].set_xlabel(\"Data point\")\n",
    "ax[1].legend(loc=\"lower right\")\n",
    "\n",
    "\n",
    "ax[2].plot(np.arange(0, len(ambient), 1), ambient['Val'], c='grey', label='Ambient')\n",
    "ax[2].plot(np.arange(0, len(black), 1), black['Val'], c='k', label='Black')\n",
    "ax[2].plot(np.arange(0, len(blue), 1), blue['Val'], c='blue', label='Blue')\n",
    "ax[2].plot(np.arange(0, len(green), 1), green['Val'], c='green', label='Green')\n",
    "ax[2].plot(np.arange(0, len(orange), 1), orange['Val'], c='orange', label='Orange')\n",
    "ax[2].plot(np.arange(0, len(pale_blue), 1), pale_blue['Val'], c='aqua', label='Light Blue')\n",
    "ax[2].plot(np.arange(0, len(pink), 1), pink['Val'], c='pink', label='Pink')\n",
    "ax[2].plot(np.arange(0, len(red), 1), red['Val'], c='red', label='Red')\n",
    "ax[2].plot(np.arange(0, len(white), 1), white['Val'], c='purple', label='White')\n",
    "ax[2].plot(np.arange(0, len(yellow), 1), yellow['Val'], c='yellow', label='Yellow')\n",
    "ax[2].set_title(\"Val\")\n",
    "ax[2].set_ylabel(\"Value Percentage (%)\")\n",
    "ax[2].set_xlabel(\"Data point\")\n",
    "ax[2].legend(loc=\"lower right\")\n",
    "\n",
    "\n"
   ]
  }
 ],
 "metadata": {
  "kernelspec": {
   "display_name": "base",
   "language": "python",
   "name": "python3"
  },
  "language_info": {
   "codemirror_mode": {
    "name": "ipython",
    "version": 3
   },
   "file_extension": ".py",
   "mimetype": "text/x-python",
   "name": "python",
   "nbconvert_exporter": "python",
   "pygments_lexer": "ipython3",
   "version": "3.8.8"
  }
 },
 "nbformat": 4,
 "nbformat_minor": 2
}
